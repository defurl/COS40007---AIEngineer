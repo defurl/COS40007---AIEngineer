{
 "cells": [
  {
   "cell_type": "markdown",
   "id": "bbbb7659",
   "metadata": {},
   "source": [
    "### COS40007 - Week 1 Studio Activities\n",
    "\n",
    "#### Activity 1.1: Python Environment setup\n",
    "\n",
    "The creation of an isolated Python environment is to manage dependencies for the unit. This prevents conflicts with other projects and folders. All the code / terminal commands will be run with Linux OS. "
   ]
  },
  {
   "cell_type": "code",
   "execution_count": null,
   "id": "891822e6",
   "metadata": {},
   "outputs": [],
   "source": [
    "# Create the environment\n",
    "!python3 -m venv cos40007-env\n",
    "\n",
    "# Activate the environment\n",
    "!source cos40007-env/bin/activate\n",
    "\n",
    "# The terminal prompt should now show the environment name (cos40007-env) indicating that the environment is active.\n",
    "# We can now install packages using pip within this environment."
   ]
  },
  {
   "cell_type": "markdown",
   "id": "7c6756c7",
   "metadata": {},
   "source": [
    "#### Activity 1.2: Core Library Installation\n",
    "\n",
    "Fundamental libraries for data manipulation, numerical computation and basic ML."
   ]
  },
  {
   "cell_type": "code",
   "execution_count": null,
   "id": "05a5fec3",
   "metadata": {},
   "outputs": [],
   "source": [
    "%pip install numpy pandas matplotlib scikit-learn"
   ]
  },
  {
   "cell_type": "markdown",
   "id": "1db23fad",
   "metadata": {},
   "source": [
    "#### Activity 1.3: Deep Learning and GPU Acceleration Setup\n",
    "\n",
    "Deep learning frameworks will be configured to use NVIDIA GPU, helping with model training\n",
    "\n",
    "1. Pytorch: Deep learning framework that provides Tensors and DynamicNN in Python with GPU Acceleration."
   ]
  },
  {
   "cell_type": "code",
   "execution_count": null,
   "id": "c4067a7e",
   "metadata": {},
   "outputs": [],
   "source": [
    "%pip install torch torchvision torchaudio"
   ]
  },
  {
   "cell_type": "markdown",
   "id": "f4c6dc52",
   "metadata": {},
   "source": [
    "2. Other Installations: TensorFlow is an open source platform for ML, Keras is a high-level NN API."
   ]
  },
  {
   "cell_type": "code",
   "execution_count": null,
   "id": "f1f9fed3",
   "metadata": {},
   "outputs": [],
   "source": [
    "%pip install tensorflow keras opencv-python labelme"
   ]
  },
  {
   "cell_type": "markdown",
   "id": "01109c72",
   "metadata": {},
   "source": [
    "#### Activity 2: Data exploration"
   ]
  }
 ],
 "metadata": {
  "language_info": {
   "name": "python"
  }
 },
 "nbformat": 4,
 "nbformat_minor": 5
}
