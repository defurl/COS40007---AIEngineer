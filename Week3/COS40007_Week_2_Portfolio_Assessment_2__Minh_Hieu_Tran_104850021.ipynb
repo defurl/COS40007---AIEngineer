{
 "cells": [
  {
   "cell_type": "markdown",
   "id": "46f07e61",
   "metadata": {},
   "source": [
    "# Week 2: Portfolio Assessment\n",
    "## Student Name: Minh Hieu Tran\n",
    "## Student ID: 104850021\n",
    "The following Notebook is the submission for the Portfolio Assessment of the course COS40007 - AI for Engineering. Dataset is upload to github raw file for easier access"
   ]
  },
  {
   "cell_type": "code",
   "execution_count": null,
   "id": "8811cfaf",
   "metadata": {},
   "outputs": [],
   "source": [
    "\n",
    "import pandas as pd\n",
    "import numpy as np\n",
    "# from sklearn.model_selection import train_test_split, GridSearchCV\n",
    "# from sklearn.preprocessing import StandardScaler\n",
    "# from sklearn.svm import SVC\n",
    "# from sklearn.ensemble import RandomForestClassifier\n",
    "# from sklearn.linear_model import SGDClassifier\n",
    "# from sklearn.neural_network import MLPClassifier\n",
    "# from sklearn.feature_selection import SelectKBest, f_classif\n",
    "# from sklearn.decomposition import PCA\n",
    "# from sklearn.pipeline import Pipeline\n",
    "# from sklearn.metrics import accuracy_score"
   ]
  }
 ],
 "metadata": {
  "kernelspec": {
   "display_name": "cos40007-env",
   "language": "python",
   "name": "python3"
  },
  "language_info": {
   "name": "python",
   "version": "3.13.7"
  }
 },
 "nbformat": 4,
 "nbformat_minor": 5
}
