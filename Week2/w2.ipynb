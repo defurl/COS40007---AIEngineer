{
 "cells": [
  {
   "cell_type": "markdown",
   "id": "e0ecb4e0",
   "metadata": {},
   "source": [
    "### COS40007 - Week 2 Studio Activities\n",
    "\n",
    "#### Activity 1: Class labelling / creating ground truth data"
   ]
  },
  {
   "cell_type": "code",
   "execution_count": null,
   "id": "26969bd8",
   "metadata": {},
   "outputs": [
    {
     "name": "stdout",
     "output_type": "stream",
     "text": [
      "Cleaned dataset 'concrete_cleaned.csv' loaded successfully.\n"
     ]
    }
   ],
   "source": [
    "import pandas as pd\n",
    "import numpy as np\n",
    "from sklearn import preprocessing\n",
    "from sklearn.model_selection import train_test_split\n",
    "from sklearn.tree import DecisionTreeClassifier\n",
    "from sklearn import metrics\n",
    "\n",
    "# --- Load the Cleaned Data from Week 1 ---\n",
    "try:\n",
    "    df_cleaned = pd.read_csv('concrete_cleaned.csv')\n",
    "    print(\"Cleaned dataset 'concrete_cleaned.csv' loaded successfully.\")\n",
    "except FileNotFoundError:\n",
    "    print(\"Error: 'concrete_cleaned.csv' not found.\")"
   ]
  },
  {
   "cell_type": "code",
   "execution_count": 4,
   "id": "07f3165f",
   "metadata": {},
   "outputs": [],
   "source": [
    "def categoriz_strength(value):\n",
    "    \"\"\"Converts a numerical strength value into a category from 1 to 5.\"\"\"\n",
    "    if value < 20:\n",
    "        return 1\n",
    "    elif 20 <= value < 30:\n",
    "        return 2\n",
    "    elif 30 <= value < 40:\n",
    "        return 3\n",
    "    elif 40 <= value < 50:\n",
    "        return 4\n",
    "    else:\n",
    "        return 5"
   ]
  }
 ],
 "metadata": {
  "kernelspec": {
   "display_name": "base",
   "language": "python",
   "name": "python3"
  },
  "language_info": {
   "codemirror_mode": {
    "name": "ipython",
    "version": 3
   },
   "file_extension": ".py",
   "mimetype": "text/x-python",
   "name": "python",
   "nbconvert_exporter": "python",
   "pygments_lexer": "ipython3",
   "version": "3.13.5"
  }
 },
 "nbformat": 4,
 "nbformat_minor": 5
}
